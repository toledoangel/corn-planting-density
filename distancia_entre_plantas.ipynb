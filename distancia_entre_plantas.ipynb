{
  "nbformat": 4,
  "nbformat_minor": 0,
  "metadata": {
    "colab": {
      "provenance": [],
      "collapsed_sections": [],
      "authorship_tag": "ABX9TyNl1JCFPh748FLaNmJBs5U2",
      "include_colab_link": true
    },
    "kernelspec": {
      "name": "python3",
      "display_name": "Python 3"
    },
    "language_info": {
      "name": "python"
    }
  },
  "cells": [
    {
      "cell_type": "markdown",
      "metadata": {
        "id": "view-in-github",
        "colab_type": "text"
      },
      "source": [
        "<a href=\"https://colab.research.google.com/github/toledoangel/corn-planting-density/blob/main/distancia_entre_plantas.ipynb\" target=\"_parent\"><img src=\"https://colab.research.google.com/assets/colab-badge.svg\" alt=\"Open In Colab\"/></a>"
      ]
    },
    {
      "cell_type": "code",
      "execution_count": null,
      "metadata": {
        "id": "utfkM7YE3un9"
      },
      "outputs": [],
      "source": [
        "def calculate_centre(BB):\n",
        "    \"\"\"\n",
        "    Dado un BB de forma [x,y,weidth, height] calcula el centro geométrico\n",
        "    \"\"\" \n",
        "\n",
        "    coor_x = BB[0]\n",
        "    coor_y = BB[1]\n",
        "    width = BB[2]\n",
        "    height = BB[3]\n",
        "    x = (xmin + width/2)\n",
        "    y = (ymin + height/2\n",
        "    centro = [x,y]\n",
        "    return centro\n",
        "\n",
        "\n",
        "\n",
        "def calculate_distance(box_1, box_2):\n",
        "    \"\"\"\n",
        "    Dado dos de forma [x, y] y una referencia, calcula \n",
        "    la distancia euclidiana entre ellas\n",
        "    \"\"\"\n",
        "    x_one, y_one = calculate_centre(box_1)\n",
        "    x_two, y_two = calculate_centre(box_2)\n",
        "    distance = abs( ((x_two-x_one)**2 + (y_two-y_one)**2 )**(1/2))\n",
        "    return distance\n"
      ]
    },
    {
      "cell_type": "code",
      "source": [
        "def calculate_corn_distance(bb_corn1, bb_corn2, bb_tape_width, bb_tape_height, tape_width_cm = 1.3, tape_height_cm = 10):\n",
        "    \"\"\"\n",
        "    nota : todos los bb en forma [x,y,width, height]\n",
        "    Dado dos BB de maiz,\n",
        "        el bb de la el ancho de la cinta , \n",
        "        el bb para el largo de la cinta \n",
        "        la medida real en cm del ancho de la cinta\n",
        "        la medida real en cm del alto de la cinta\n",
        "    Calcula la distancia en px entre maíces\n",
        "    Encuentra la distaancia en px del ancho y alto de la cinta\n",
        "    Pondera para encontrar la distancie entre maíces con una regla de 3\n",
        "    en cm dado el ancho como referencia, el alto y un promedio de ambos\n",
        "    return [\n",
        "            distancia en cm obtenida por ancho\n",
        "            distancia en cm obtenida por largo\n",
        "            distancia en cm promedio (ancho y largo)\n",
        "            ]\n",
        "    \"\"\"\n",
        "    # Obtener distancias en px\n",
        "    distance_corn_px = calculate_distance(bb_corn1, bb_corn2)\n",
        "    tape_width_px = max(bb_tape_width[2], bb_tape_height[2])\n",
        "    tape_height_px = max(bb_tape_width[3], bb_tape_height[3])\n",
        "    # Ponderar distancias en cm\n",
        "    distance_for_width =  (distance_corn_px * tape_width_px) / tape_width_cm\n",
        "    distance_for_height = (distance_corn_px * tape_height_px) / tape_height_cm\n",
        "    distance_mean = (distance_for_width * distance_for_height) / 2\n",
        "\n",
        "    return distance_for_width, distance_for_height, distance_mean"
      ],
      "metadata": {
        "id": "UmPfI0uw6yw2"
      },
      "execution_count": null,
      "outputs": []
    }
  ]
}